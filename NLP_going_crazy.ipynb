{
 "cells": [
  {
   "cell_type": "code",
   "execution_count": null,
   "id": "11ed7826-cdee-4efa-977d-2cf97484e301",
   "metadata": {},
   "outputs": [],
   "source": [
    "using CSV, DataFrames, Distributions, Dates, Gadfly, GLM, Statistics, Random, Plots"
   ]
  },
  {
   "cell_type": "code",
   "execution_count": null,
   "id": "32df3e72-b684-4e5c-93c3-1222e0738fe5",
   "metadata": {},
   "outputs": [],
   "source": [
    "function rmsle(predictions::Vector{Int64}, actual::Vector{Int64})\n",
    "    if length(predictions) != length(actual)\n",
    "        throw(ArgumentError(\"Les vecteurs de prédictions et de valeurs réelles doivent avoir la même longueur\"))\n",
    "    end\n",
    "    \n",
    "    n = length(predictions)\n",
    "    sum_squared_log_errors = 0\n",
    "    \n",
    "    for i in 1:n\n",
    "        sum_squared_log_errors += (log(predictions[i] + 1) - log(actual[i] + 1))^2\n",
    "    end\n",
    "    \n",
    "    rmsle_score = sqrt(sum_squared_log_errors / n)\n",
    "    return rmsle_score\n",
    "end"
   ]
  },
  {
   "cell_type": "code",
   "execution_count": null,
   "id": "bea7499b-e0d9-44ae-8ce7-107218c338ce",
   "metadata": {},
   "outputs": [],
   "source": [
    "data = CSV.read(\"./Data/train.csv\", DataFrame);"
   ]
  },
  {
   "cell_type": "code",
   "execution_count": null,
   "id": "0ebcfbca-43eb-4a90-9634-bb7e8a6e9d96",
   "metadata": {},
   "outputs": [],
   "source": [
    "data.Puissance_Moteur = ifelse.(data.Type .== \"unpowered\", 1, data.Puissance_Moteur);"
   ]
  },
  {
   "cell_type": "markdown",
   "id": "d42e4e6e-5f68-494f-9d31-f5d81ad385f5",
   "metadata": {},
   "source": [
    "## Modele pour la puissance"
   ]
  },
  {
   "cell_type": "code",
   "execution_count": null,
   "id": "387ca585-4bfe-4373-bcad-f2086a315df4",
   "metadata": {},
   "outputs": [],
   "source": [
    "data_puissance = dropmissing(data, :Puissance_Moteur);"
   ]
  },
  {
   "cell_type": "code",
   "execution_count": null,
   "id": "68406cd9-0d29-453b-b420-81c257c0cccc",
   "metadata": {},
   "outputs": [],
   "source": [
    "data_puissance = filter(row -> row.Longueur > 10, data_puissance);"
   ]
  },
  {
   "cell_type": "code",
   "execution_count": null,
   "id": "c0d47ec5-8216-4ff9-9590-b4c80614013a",
   "metadata": {},
   "outputs": [],
   "source": [
    "model_puissance = lm(@formula(Puissance_Moteur ~ Longueur + Type), data_puissance)"
   ]
  },
  {
   "cell_type": "markdown",
   "id": "c660de49-1fe7-4a12-9046-4461e9ff1c3f",
   "metadata": {},
   "source": [
    "## Modele pour le poids"
   ]
  },
  {
   "cell_type": "code",
   "execution_count": null,
   "id": "53c02a37-c675-4274-a205-71c51beeffce",
   "metadata": {},
   "outputs": [],
   "source": [
    "data_poids = dropmissing(data, :Poids);"
   ]
  },
  {
   "cell_type": "code",
   "execution_count": null,
   "id": "94495204-ae00-4674-a9ff-bcbfc1633623",
   "metadata": {},
   "outputs": [],
   "source": [
    "data_poids = filter(row -> row.Longueur < 100, data_poids);"
   ]
  },
  {
   "cell_type": "code",
   "execution_count": null,
   "id": "58e8c22d-fb1f-4748-8c31-6942527f48a3",
   "metadata": {},
   "outputs": [],
   "source": [
    "data_poids.LongueurSquare = data_poids.Longueur.^2;"
   ]
  },
  {
   "cell_type": "code",
   "execution_count": null,
   "id": "1b07d4a5-e616-4b1d-80cc-5c207147b61f",
   "metadata": {},
   "outputs": [],
   "source": [
    "data_poids.LongueurCube = data_poids.Longueur.^3;"
   ]
  },
  {
   "cell_type": "code",
   "execution_count": null,
   "id": "3a1509ad-f239-4049-bdfb-177ecd12a10b",
   "metadata": {},
   "outputs": [],
   "source": [
    "model_poids = lm(@formula(Poids ~ Longueur + LongueurSquare + LongueurCube), data_poids)"
   ]
  },
  {
   "cell_type": "markdown",
   "id": "dbab13ab-a57a-49c1-ab77-a507c6caad51",
   "metadata": {},
   "source": [
    "## Modele general"
   ]
  },
  {
   "cell_type": "code",
   "execution_count": null,
   "id": "fe43fd5f-3f09-4714-ae4f-3b27e81516b3",
   "metadata": {},
   "outputs": [],
   "source": [
    "replaceValue = \"Autre\"\n",
    "data[!, :Modèle] = coalesce.(data[!, :Modèle], replaceValue);"
   ]
  },
  {
   "cell_type": "code",
   "execution_count": null,
   "id": "9da9c742-2281-4280-9f5f-75a5114ea2d8",
   "metadata": {},
   "outputs": [],
   "source": [
    "replaceValue = \"Autre\"\n",
    "data[!, :Classe] = coalesce.(data[!, :Classe], replaceValue);"
   ]
  },
  {
   "cell_type": "code",
   "execution_count": null,
   "id": "67100c84-3ea7-4dfb-b00e-0c0bee3f83c9",
   "metadata": {},
   "outputs": [],
   "source": [
    "pred_puissance = predict(model_puissance, data);\n",
    "n = length(pred_puissance)\n",
    "for i in 1:n\n",
    "    if (ismissing(data.Puissance_Moteur[i]))\n",
    "        data.Puissance_Moteur[i] = Int(round(pred_puissance[i], digits=0))\n",
    "    end\n",
    "end"
   ]
  },
  {
   "cell_type": "code",
   "execution_count": null,
   "id": "4785c6c7-af79-4894-9b11-4c83221dda01",
   "metadata": {},
   "outputs": [],
   "source": [
    "data.LongueurSquare = data.Longueur.^2;\n",
    "data.LongueurCube = data.Longueur.^3;\n",
    "pred_poids = predict(model_poids, data);\n",
    "n = length(pred_poids)\n",
    "for i in 1:n\n",
    "    if (ismissing(data.Poids[i]))\n",
    "        data.Poids[i] = Int(round(pred_poids[i], digits=0))\n",
    "    end\n",
    "end"
   ]
  },
  {
   "cell_type": "code",
   "execution_count": null,
   "id": "170ff242-0ae5-4c71-849a-9d0cc4c934d9",
   "metadata": {},
   "outputs": [],
   "source": [
    "#filtered_df = filter(row -> row.Prix < 100000, data);\n",
    "#df_high = filter(row -> row.Prix > 100000, data);\n",
    "Random.seed!(3302)\n",
    "train_id = sample(1:nrow(data), round(Int, .8nrow(data)), ordered=true, replace=false)\n",
    "valid_id = setdiff(1:nrow(data), train_id)\n",
    "\n",
    "#valid_high_id = sample(1:nrow(df_high), round(Int, .2nrow(df_high)), ordered=true, replace=false)\n",
    "#valid_high = filtered_df[valid_high_id,:];\n",
    "\n",
    "train = data[train_id,:]\n",
    "\n",
    "valid = data[valid_id,:];\n",
    "#valid = vcat(valid, valid_high);"
   ]
  },
  {
   "cell_type": "code",
   "execution_count": null,
   "id": "d491ef17-7771-40bd-b403-24141639a2ec",
   "metadata": {},
   "outputs": [],
   "source": [
    "regex_pattern = r\"\\D+\"\n",
    "function extract_model_name(model)\n",
    "    match_result = match(regex_pattern, replace(lowercase(string(model)), r\"\\s+\" => \"\"))\n",
    "    return match_result === nothing ? \"other\" : match_result.match\n",
    "end\n",
    "# Apply the function to create a new column 'Modèle_New' in the train DataFrame\n",
    "train[!, :Simplified_Modèle] = coalesce.(extract_model_name.(train[!, :Modèle]), \"Other\")\n",
    "valid[!, :Simplified_Modèle] = coalesce.(extract_model_name.(valid[!, :Modèle]), \"Other\")\n",
    "#first(train, 1)"
   ]
  },
  {
   "cell_type": "code",
   "execution_count": null,
   "id": "86e147aa",
   "metadata": {},
   "outputs": [],
   "source": [
    "function age_group(age)\n",
    "    if age >= 2020\n",
    "        return \"abcd\"\n",
    "    elseif age >= 2019\n",
    "        return \"efgh\"\n",
    "    elseif age >= 2014\n",
    "        return \"ijkl\"\n",
    "    elseif age >= 2005\n",
    "        return \"mnop\"\n",
    "    else\n",
    "        return \"qrst\"\n",
    "    end\n",
    "end\n",
    "\n",
    "train[!, :Age_cat] = age_group.(train[!, :Année])\n",
    "valid[!, :Age_cat] = age_group.(valid[!, :Année]);\n"
   ]
  },
  {
   "cell_type": "code",
   "execution_count": null,
   "id": "2e2ae483",
   "metadata": {},
   "outputs": [],
   "source": [
    "# Histogram of the 'Age' column\n",
    "Gadfly.plot(train, x=:Age_cat, Geom.histogram)"
   ]
  },
  {
   "cell_type": "code",
   "execution_count": null,
   "id": "156d9945",
   "metadata": {},
   "outputs": [],
   "source": [
    "# same thins as Age_cat but for the Longueur column\n",
    "function longueur_group(longueur)\n",
    "    if longueur >=27 \n",
    "        return \"zyxw\"\n",
    "    elseif longueur >= 23\n",
    "        return \"vuts\"\n",
    "    elseif longueur >= 20\n",
    "        return \"rqpo\"\n",
    "    elseif longueur >= 18\n",
    "        return \"nmlk\"\n",
    "    else\n",
    "        return \"jihg\"\n",
    "    end\n",
    "end\n",
    "\n",
    "train[!, :Longueur_cat] = longueur_group.(train[!, :Longueur])\n",
    "valid[!, :Longueur_cat] = longueur_group.(valid[!, :Longueur]);"
   ]
  },
  {
   "cell_type": "code",
   "execution_count": null,
   "id": "7ae4f5ef",
   "metadata": {},
   "outputs": [],
   "source": [
    "Gadfly.plot(train, x=:Longueur_cat, Geom.histogram)"
   ]
  },
  {
   "cell_type": "code",
   "execution_count": null,
   "id": "2456430b",
   "metadata": {},
   "outputs": [],
   "source": [
    "# same as age_cat but for Puissance\n",
    "function power_group(power)\n",
    "    if power >= 300\n",
    "        return \"abcd\"\n",
    "    elseif power >= 175\n",
    "        return \"efgh\"\n",
    "    elseif power >= 100\n",
    "        return \"ijkl\"\n",
    "    else\n",
    "        return \"mnop\"\n",
    "    end\n",
    "end\n",
    "\n",
    "train[!, :power_cat] = power_group.(train[!, :Puissance_Moteur])\n",
    "valid[!, :power_cat] = power_group.(valid[!, :Puissance_Moteur]);    \n",
    "    "
   ]
  },
  {
   "cell_type": "code",
   "execution_count": null,
   "id": "fd912b77",
   "metadata": {},
   "outputs": [],
   "source": [
    "Gadfly.plot(train, x=:power_cat, Geom.histogram)"
   ]
  },
  {
   "cell_type": "markdown",
   "id": "80997ca0",
   "metadata": {},
   "source": [
    "## TEST"
   ]
  },
  {
   "cell_type": "code",
   "execution_count": null,
   "id": "5e8234b6",
   "metadata": {},
   "outputs": [],
   "source": [
    "names(train)"
   ]
  },
  {
   "cell_type": "code",
   "execution_count": null,
   "id": "9205cdce-1d11-4ead-859d-2ea060b7fdb9",
   "metadata": {},
   "outputs": [],
   "source": [
    "unique_data_modèles = unique(train[!, :Simplified_Modèle])\n",
    "unique_valid_modèles = unique(valid[!, :Simplified_Modèle])\n",
    "println(\"Number of unique modèle in train: \", length(unique_data_modèles))\n",
    "println(\"Number of unique modèle in valid: \", length(unique_valid_modèles))\n",
    "diff_modèles = setdiff(unique_valid_modèles, unique_data_modèles)\n",
    "train[!, :Fab_Model_Longueur] = train[!, :Fabricant] .* \"_\" .* train[!, :Simplified_Modèle] .* \"_\" .*  train[!, :Condition] .* \"_\" .* string.(train[!, :Longueur]) .* \"_\" .* string.(train[!, :Poids]) .* \"_\" .*  string.(train[!, :Année]) .* \"_\" .* string.(train[!, :Puissance_Moteur]) .* \"_\" .* string.(train[!, :Type]);\n",
    "valid[!, :Fab_Model_Longueur] = valid[!, :Fabricant] .* \"_\" .* valid[!, :Simplified_Modèle] .* \"_\" .*  valid[!, :Condition] .* \"_\" .* string.(valid[!, :Longueur]) .* \"_\" .* string.(valid[!, :Poids]) .* \"_\" .*  string.(valid[!, :Année]) .* \"_\" .* string.(valid[!, :Puissance_Moteur]) .* \"_\" .* string.(valid[!, :Type]);\n",
    "\n",
    "unique_data_modèles = unique(train[!, :Fab_Model_Longueur])\n",
    "unique_valid_modèles = unique(valid[!, :Fab_Model_Longueur]);"
   ]
  },
  {
   "cell_type": "code",
   "execution_count": null,
   "id": "d6c44d93-e64a-479b-bb09-d381f7d72dd6",
   "metadata": {},
   "outputs": [],
   "source": [
    "using StringDistances\n",
    "\n",
    "threshold = 0.2\n",
    "mapping = Dict{String, String}()\n",
    "\n",
    "for modèle_valid in unique_valid_modèles\n",
    "    best_match = \"\"\n",
    "    best_similarity = 0.0\n",
    "    \n",
    "    for modèle_train in unique_data_modèles\n",
    "        similarity = compare(modèle_valid, modèle_train, StringDistances.Levenshtein())\n",
    "        \n",
    "        if similarity > threshold && similarity > best_similarity\n",
    "            best_match = modèle_train\n",
    "            best_similarity = similarity\n",
    "        end\n",
    "    end\n",
    "    \n",
    "    if best_match != \"\"\n",
    "        mapping[modèle_valid] = best_match\n",
    "    end\n",
    "end"
   ]
  },
  {
   "cell_type": "code",
   "execution_count": null,
   "id": "6d5ffd7c-1dc4-4eda-aed8-6420f53b1303",
   "metadata": {},
   "outputs": [],
   "source": [
    "replace_with_mapping(value) = get(mapping, value, value)\n",
    "valid[!, :Fab_Model_Longueur] .= replace_with_mapping.(valid[!, :Fab_Model_Longueur]);\n",
    "first(valid, 1)"
   ]
  },
  {
   "cell_type": "code",
   "execution_count": null,
   "id": "613767d6-59f4-484b-94ab-e3c4f7219117",
   "metadata": {},
   "outputs": [],
   "source": [
    "model = lm(@formula(Prix ~ ((Fab_Model_Longueur))), train);"
   ]
  },
  {
   "cell_type": "code",
   "execution_count": null,
   "id": "b5b3ebb9-8ae9-42e9-9158-b1e1a6da8f94",
   "metadata": {},
   "outputs": [],
   "source": [
    "valid_prediction = predict(model, valid)\n",
    "mean_prediction = mean(valid_prediction)\n",
    "valid_prediction = coalesce.(valid_prediction, mean_prediction)\n",
    "v = Int.(round.(valid_prediction, digits=0))\n",
    "v = ifelse.(v.< 0, 0, v)\n",
    "score = rmsle(v, valid.Prix)"
   ]
  },
  {
   "cell_type": "markdown",
   "id": "79bbe02a",
   "metadata": {},
   "source": [
    "orgiginal Alex : 0.49676563597360485\n",
    "\n",
    "sans année : 0.5795805586630924\n",
    "\n",
    "sans année + Age_cat + Longueur_cat : 0.49092335331666376"
   ]
  },
  {
   "cell_type": "markdown",
   "id": "f509d599",
   "metadata": {},
   "source": []
  },
  {
   "cell_type": "markdown",
   "id": "681fe743",
   "metadata": {},
   "source": []
  },
  {
   "cell_type": "markdown",
   "id": "477034f3",
   "metadata": {},
   "source": []
  }
 ],
 "metadata": {
  "kernelspec": {
   "display_name": "Julia 1.10.0",
   "language": "julia",
   "name": "julia-1.10"
  },
  "language_info": {
   "file_extension": ".jl",
   "mimetype": "application/julia",
   "name": "julia",
   "version": "1.10.0"
  }
 },
 "nbformat": 4,
 "nbformat_minor": 5
}
